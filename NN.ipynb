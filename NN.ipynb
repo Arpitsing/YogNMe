{
 "cells": [
  {
   "cell_type": "code",
   "execution_count": 1,
   "metadata": {},
   "outputs": [],
   "source": [
    "import tensorflow as tf\n",
    "import os\n",
    "import matplotlib.pyplot as plt\n",
    "from tqdm.notebook import tqdm_notebook as tqdm\n",
    "import numpy as np\n",
    "from keras.models import Sequential\n",
    "from keras.layers import Convolution2D, Dense\n",
    "from keras.layers import BatchNormalization\n",
    "from keras.layers import MaxPooling2D\n",
    "from keras.layers import Flatten\n",
    "from keras.optimizers import Adam\n",
    "from keras.optimizers import SGD\n",
    "import cv2\n",
    "from sklearn import preprocessing"
   ]
  },
  {
   "cell_type": "code",
   "execution_count": 2,
   "metadata": {},
   "outputs": [
    {
     "data": {
      "application/vnd.jupyter.widget-view+json": {
       "model_id": "cbd07fc5c50642c692087d40ce3331ed",
       "version_major": 2,
       "version_minor": 0
      },
      "text/plain": [
       "HBox(children=(HTML(value=''), FloatProgress(value=0.0, max=371.0), HTML(value='')))"
      ]
     },
     "metadata": {},
     "output_type": "display_data"
    },
    {
     "name": "stdout",
     "output_type": "stream",
     "text": [
      "\n"
     ]
    }
   ],
   "source": [
    "X_train=[]\n",
    "y_train=[]\n",
    "os.chdir('C:/Users/Harsh/Desktop/JUPYTER/DATASET/f')\n",
    "for i in tqdm(os.listdir()):\n",
    "    img = cv2.imread(i)     \n",
    "    img = cv2.resize(img,(128,128))\n",
    "    X_train.append(img)\n",
    "    y_train.append(i[0]) "
   ]
  },
  {
   "cell_type": "code",
   "execution_count": 3,
   "metadata": {},
   "outputs": [
    {
     "data": {
      "image/png": "[encoded data removed]",
      "text/plain": [
       "<Figure size 720x72 with 10 Axes>"
      ]
     },
     "metadata": {
      "needs_background": "light"
     },
     "output_type": "display_data"
    },
    {
     "name": "stdout",
     "output_type": "stream",
     "text": [
      "Label: ['A', 'A', 'A', 'A', 'A', 'A', 'A', 'A', 'A', 'A']\n"
     ]
    }
   ],
   "source": [
    "%matplotlib inline\n",
    "plt.figure(figsize=(10, 1))\n",
    "for i in range(10):\n",
    "    plt.subplot(1, 10, i+1)\n",
    "    plt.imshow(X_train[i], cmap=\"gray\")\n",
    "    plt.axis('off')\n",
    "plt.show()\n",
    "print('Label: %s' % (y_train[0:10]))\n"
   ]
  },
  {
   "cell_type": "code",
   "execution_count": 5,
   "metadata": {},
   "outputs": [
    {
     "data": {
      "application/vnd.jupyter.widget-view+json": {
       "model_id": "6dee3de2dc2747d59e135a4d028b96bf",
       "version_major": 2,
       "version_minor": 0
      },
      "text/plain": [
       "HBox(children=(HTML(value=''), FloatProgress(value=0.0, max=169.0), HTML(value='')))"
      ]
     },
     "metadata": {},
     "output_type": "display_data"
    },
    {
     "name": "stdout",
     "output_type": "stream",
     "text": [
      "\n"
     ]
    }
   ],
   "source": [
    "X_test = []\n",
    "y_test = []\n",
    "os.getcwd()\n",
    "os.chdir('C:/Users/Harsh/Desktop/JUPYTER/DATASET/g')\n",
    "for i in tqdm(os.listdir()):\n",
    "    img = cv2.imread(i)   \n",
    "    img = cv2.resize(img,(128,128))\n",
    "    X_test.append(img)\n",
    "    y_test.append(i[0]) "
   ]
  },
  {
   "cell_type": "code",
   "execution_count": 6,
   "metadata": {},
   "outputs": [
    {
     "name": "stdout",
     "output_type": "stream",
     "text": [
      "Shape of an image in X_train:  (128, 128, 3)\n",
      "Shape of an image in X_test:  (128, 128, 3)\n",
      "Total categories:  2\n",
      "Total categories:  2\n"
     ]
    }
   ],
   "source": [
    "print (\"Shape of an image in X_train: \", X_train[0].shape)\n",
    "print (\"Shape of an image in X_test: \", X_test[0].shape)\n",
    "\n",
    "print(\"Total categories: \", len(np.unique(y_train)))\n",
    "print(\"Total categories: \", len(np.unique(y_test)))"
   ]
  },
  {
   "cell_type": "code",
   "execution_count": 7,
   "metadata": {},
   "outputs": [],
   "source": [
    "le = preprocessing.LabelEncoder()\n",
    "y_train = le.fit_transform(y_train)\n",
    "y_test = le.fit_transform(y_test)\n",
    "\n",
    "y_train = tf.keras.utils.to_categorical(y_train, num_classes=2)\n",
    "y_test = tf.keras.utils.to_categorical(y_test, num_classes=2)"
   ]
  },
  {
   "cell_type": "code",
   "execution_count": 8,
   "metadata": {},
   "outputs": [
    {
     "name": "stdout",
     "output_type": "stream",
     "text": [
      "X_train Shape:  (371, 128, 128, 3)\n",
      "X_test Shape:  (169, 128, 128, 3)\n",
      "y_train Shape:  (371, 2)\n",
      "y_test Shape:  (169, 2)\n"
     ]
    }
   ],
   "source": [
    "y_train = np.array(y_train)\n",
    "X_train = np.array(X_train)\n",
    "\n",
    "y_test = np.array(y_test)\n",
    "X_test = np.array(X_test)\n",
    "\n",
    "print(\"X_train Shape: \", X_train.shape)\n",
    "print(\"X_test Shape: \", X_test.shape)\n",
    "print(\"y_train Shape: \", y_train.shape)\n",
    "print(\"y_test Shape: \", y_test.shape)"
   ]
  },
  {
   "cell_type": "code",
   "execution_count": 9,
   "metadata": {},
   "outputs": [],
   "source": [
    "handModel=Sequential()\n",
    "handModel.add(BatchNormalization(input_shape = (128,128,3), name='batch_norm_0'))\n",
    "handModel.add(Convolution2D(filters=16, kernel_size=3, padding='same', activation ='relu', input_shape = (128, 128, 3), name=\"conv_0\")) \n",
    "handModel.add(MaxPooling2D(pool_size=2, name='max_pool_0'))\n",
    "handModel.add(Convolution2D(filters=32,kernel_size=4,padding='same',activation='relu', name=\"conv_1\"))\n",
    "handModel.add(MaxPooling2D(pool_size=2, name='max_pool_1'))\n",
    "handModel.add(Convolution2D(filters=32,kernel_size=3,padding='same',activation='relu', name=\"conv_2\"))\n",
    "handModel.add(MaxPooling2D(pool_size=2, name='max_pool_2'))\n",
    "handModel.add(Convolution2D(filters=64,kernel_size=2,padding='same',activation='relu', name=\"conv_3\"))\n",
    "handModel.add(MaxPooling2D(pool_size=2, name='max_pool_3'))\n",
    "handModel.add(Flatten()) \n",
    "handModel.add(Dense(units = 128,activation = 'relu'))\n",
    "handModel.add(Dense(units = 64, activation = 'relu'))\n",
    "handModel.add(Dense(units = 32, activation = 'relu'))\n",
    "handModel.add(Dense(units = 2, activation = 'sigmoid'))"
   ]
  },
  {
   "cell_type": "code",
   "execution_count": 10,
   "metadata": {},
   "outputs": [],
   "source": [
    "handModel.compile(optimizer='adam', loss = 'binary_crossentropy',metrics = ['accuracy'])"
   ]
  },
  {
   "cell_type": "code",
   "execution_count": 13,
   "metadata": {
    "scrolled": true
   },
   "outputs": [
    {
     "name": "stdout",
     "output_type": "stream",
     "text": [
      "Epoch 1/30\n",
      " 1/12 [=>............................] - ETA: 0s - loss: 0.0434 - accuracy: 1.0000WARNING:tensorflow:Callbacks method `on_train_batch_end` is slow compared to the batch time (batch time: 0.0100s vs `on_train_batch_end` time: 0.0180s). Check your callbacks.\n",
      "12/12 [==============================] - 0s 25ms/step - loss: 0.0202 - accuracy: 0.9973\n",
      "Epoch 2/30\n",
      "12/12 [==============================] - 0s 24ms/step - loss: 0.0122 - accuracy: 0.9973\n",
      "Epoch 3/30\n",
      "12/12 [==============================] - 0s 24ms/step - loss: 0.0217 - accuracy: 0.9892\n",
      "Epoch 4/30\n",
      "12/12 [==============================] - 0s 24ms/step - loss: 0.0648 - accuracy: 0.9838\n",
      "Epoch 5/30\n",
      "12/12 [==============================] - 0s 24ms/step - loss: 0.1113 - accuracy: 0.9650\n",
      "Epoch 6/30\n",
      "12/12 [==============================] - 0s 24ms/step - loss: 0.0390 - accuracy: 0.9919\n",
      "Epoch 7/30\n",
      "12/12 [==============================] - 0s 24ms/step - loss: 0.0186 - accuracy: 0.9946\n",
      "Epoch 8/30\n",
      "12/12 [==============================] - 0s 24ms/step - loss: 0.0163 - accuracy: 0.9973\n",
      "Epoch 9/30\n",
      "12/12 [==============================] - 0s 24ms/step - loss: 0.0040 - accuracy: 1.0000\n",
      "Epoch 10/30\n",
      "12/12 [==============================] - 0s 24ms/step - loss: 0.0027 - accuracy: 1.0000\n",
      "Epoch 11/30\n",
      "12/12 [==============================] - 0s 24ms/step - loss: 0.0024 - accuracy: 1.0000\n",
      "Epoch 12/30\n",
      "12/12 [==============================] - 0s 24ms/step - loss: 0.0020 - accuracy: 1.0000\n",
      "Epoch 13/30\n",
      "12/12 [==============================] - 0s 25ms/step - loss: 0.0018 - accuracy: 1.0000\n",
      "Epoch 14/30\n",
      "12/12 [==============================] - 0s 25ms/step - loss: 0.0017 - accuracy: 1.0000\n",
      "Epoch 15/30\n",
      "12/12 [==============================] - 0s 24ms/step - loss: 0.0016 - accuracy: 1.0000\n",
      "Epoch 16/30\n",
      "12/12 [==============================] - 0s 24ms/step - loss: 0.0016 - accuracy: 1.0000\n",
      "Epoch 17/30\n",
      "12/12 [==============================] - 0s 24ms/step - loss: 0.0015 - accuracy: 1.0000\n",
      "Epoch 18/30\n",
      "12/12 [==============================] - 0s 25ms/step - loss: 0.0014 - accuracy: 1.0000\n",
      "Epoch 19/30\n",
      "12/12 [==============================] - 0s 24ms/step - loss: 0.0012 - accuracy: 1.0000\n",
      "Epoch 20/30\n",
      "12/12 [==============================] - 0s 24ms/step - loss: 0.0012 - accuracy: 1.0000\n",
      "Epoch 21/30\n",
      "12/12 [==============================] - 0s 24ms/step - loss: 9.2446e-04 - accuracy: 1.0000\n",
      "Epoch 22/30\n",
      "12/12 [==============================] - 0s 24ms/step - loss: 7.8697e-04 - accuracy: 1.0000\n",
      "Epoch 23/30\n",
      "12/12 [==============================] - 0s 24ms/step - loss: 6.2422e-04 - accuracy: 1.0000\n",
      "Epoch 24/30\n",
      "12/12 [==============================] - 0s 24ms/step - loss: 4.7104e-04 - accuracy: 1.0000\n",
      "Epoch 25/30\n",
      "12/12 [==============================] - 0s 25ms/step - loss: 3.0179e-04 - accuracy: 1.0000\n",
      "Epoch 26/30\n",
      "12/12 [==============================] - 0s 24ms/step - loss: 2.1440e-04 - accuracy: 1.0000\n",
      "Epoch 27/30\n",
      "12/12 [==============================] - 0s 24ms/step - loss: 1.9661e-04 - accuracy: 1.0000\n",
      "Epoch 28/30\n",
      "12/12 [==============================] - 0s 24ms/step - loss: 1.2101e-04 - accuracy: 1.0000\n",
      "Epoch 29/30\n",
      "12/12 [==============================] - 0s 24ms/step - loss: 8.6935e-05 - accuracy: 1.0000\n",
      "Epoch 30/30\n",
      "12/12 [==============================] - 0s 24ms/step - loss: 7.4815e-05 - accuracy: 1.0000\n"
     ]
    }
   ],
   "source": [
    "model = handModel.fit(X_train, y_train, epochs=30 )"
   ]
  },
  {
   "cell_type": "code",
   "execution_count": 14,
   "metadata": {},
   "outputs": [
    {
     "name": "stdout",
     "output_type": "stream",
     "text": [
      "6/6 [==============================] - 0s 6ms/step - loss: 0.2537 - accuracy: 0.9763\n",
      "[0.2536677122116089, 0.976331353187561]\n"
     ]
    }
   ],
   "source": [
    "loss = handModel.evaluate(X_test,y_test)\n",
    "print(loss)\n"
   ]
  },
  {
   "cell_type": "code",
   "execution_count": 24,
   "metadata": {},
   "outputs": [
    {
     "data": {
      "text/plain": [
       "array([[1.1890929e-12, 1.0000000e+00]], dtype=float32)"
      ]
     },
     "execution_count": 24,
     "metadata": {},
     "output_type": "execute_result"
    }
   ],
   "source": [
    "frame1 = cv2.imread(\"C:\\\\Users\\\\Harsh\\\\Desktop\\\\JUPYTER\\\\DATASET\\\\u0.jpg\")     \n",
    "#e = cv2.resize(e,(128,128))\n",
    "frame1 = cv2.resize(frame1,(128,128))\n",
    "frame1 = frame1.reshape(1,frame1.shape[0],frame1.shape[1],frame1.shape[2])\n",
    "handModel.predict(frame1)\n"
   ]
  },
  {
   "cell_type": "code",
   "execution_count": 25,
   "metadata": {},
   "outputs": [],
   "source": [
    "predicted_classes = handModel.predict(frame1)\n",
    "predicted_classes = np.argmax(np.round(predicted_classes),axis=1)"
   ]
  },
  {
   "cell_type": "code",
   "execution_count": 26,
   "metadata": {},
   "outputs": [
    {
     "name": "stdout",
     "output_type": "stream",
     "text": [
      "Prediction: [1]\n"
     ]
    }
   ],
   "source": [
    "print(\"Prediction:\",predicted_classes)"
   ]
  },
  {
   "cell_type": "code",
   "execution_count": null,
   "metadata": {},
   "outputs": [],
   "source": [
    "import time\n",
    "from directkeys import right_pressed, left_pressed\n",
    "from directkeys import PressKey, ReleaseKey \n",
    "left_key=left_pressed\n",
    "right_key=right_pressed\n",
    "cap = cv2.VideoCapture(0)\n",
    "time.sleep(5.0)\n",
    "while(True):\n",
    "    ret, frame1 = cap.read()\n",
    "    ret, frame = cap.read()\n",
    "    frame1=frame\n",
    "    frame1 = cv2.flip(frame1, 1)\n",
    "    font = cv2.FONT_HERSHEY_SIMPLEX \n",
    "    frame = cv2.resize(frame,(540,540))\n",
    "    \n",
    "    frame1 = cv2.resize(frame1,(128,128))\n",
    "    frame1 = frame1.reshape(1,frame1.shape[0],frame1.shape[1],frame1.shape[2])\n",
    "    predicted_classes = handModel.predict(frame1)\n",
    "    predicted_classes = np.argmax(np.round(predicted_classes),axis=1)\n",
    "    print(\"Prediction:\",predicted_classes)\n",
    "    \n",
    "    if predicted_classes==1 :\n",
    "        cv2.putText(frame,'Acceleration',(50,50),font,1,(0,255,0),3)\n",
    "        PressKey(right_key)\n",
    "        time.sleep(0.1)\n",
    "        ReleaseKey(right_key)\n",
    "    else:\n",
    "        cv2.putText(frame,'Break',(50,50),font,1,(0,0,255),3)\n",
    "        PressKey(left_key)\n",
    "        time.sleep(0.1)\n",
    "        ReleaseKey(left_key)\n",
    "        \n",
    "    cv2.imshow(\"Live cam\",frame)\n",
    "    \n",
    "    if cv2.waitKey(1) & 0xFF == ord('q'):\n",
    "        break\n",
    "\n",
    "cap.release()\n",
    "cv2.destroyAllWindows()"
   ]
  }
 ],
 "metadata": {
  "kernelspec": {
   "display_name": "Python 3",
   "language": "python",
   "name": "python3"
  },
  "language_info": {
   "codemirror_mode": {
    "name": "ipython",
    "version": 3
   },
   "file_extension": ".py",
   "mimetype": "text/x-python",
   "name": "python",
   "nbconvert_exporter": "python",
   "pygments_lexer": "ipython3",
   "version": "3.8.8"
  }
 },
 "nbformat": 4,
 "nbformat_minor": 4
}
