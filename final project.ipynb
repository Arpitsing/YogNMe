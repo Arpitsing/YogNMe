{
 "cells": [
  {
   "cell_type": "code",
   "execution_count": 5,
   "metadata": {},
   "outputs": [
    {
     "name": "stdout",
     "output_type": "stream",
     "text": [
      "Collecting mediapipe\n",
      "  Downloading mediapipe-0.8.9-cp38-cp38-win_amd64.whl (48.6 MB)\n",
      "Requirement already satisfied: attrs>=19.1.0 in c:\\users\\shivam\\anaconda\\lib\\site-packages (from mediapipe) (20.3.0)\n",
      "Requirement already satisfied: six in c:\\users\\shivam\\anaconda\\lib\\site-packages (from mediapipe) (1.15.0)\n",
      "Collecting absl-py\n",
      "  Downloading absl_py-1.0.0-py3-none-any.whl (126 kB)\n",
      "Requirement already satisfied: matplotlib in c:\\users\\shivam\\anaconda\\lib\\site-packages (from mediapipe) (3.3.4)\n",
      "Collecting opencv-contrib-python\n",
      "  Downloading opencv_contrib_python-4.5.4.58-cp38-cp38-win_amd64.whl (42.0 MB)\n",
      "Requirement already satisfied: wheel in c:\\users\\shivam\\anaconda\\lib\\site-packages (from mediapipe) (0.36.2)\n",
      "Requirement already satisfied: numpy in c:\\users\\shivam\\anaconda\\lib\\site-packages (from mediapipe) (1.20.1)\n",
      "Collecting protobuf>=3.11.4\n",
      "  Downloading protobuf-3.19.1-cp38-cp38-win_amd64.whl (895 kB)\n",
      "Requirement already satisfied: python-dateutil>=2.1 in c:\\users\\shivam\\anaconda\\lib\\site-packages (from matplotlib->mediapipe) (2.8.1)\n",
      "Requirement already satisfied: cycler>=0.10 in c:\\users\\shivam\\anaconda\\lib\\site-packages (from matplotlib->mediapipe) (0.10.0)\n",
      "Requirement already satisfied: pillow>=6.2.0 in c:\\users\\shivam\\anaconda\\lib\\site-packages (from matplotlib->mediapipe) (8.2.0)\n",
      "Requirement already satisfied: pyparsing!=2.0.4,!=2.1.2,!=2.1.6,>=2.0.3 in c:\\users\\shivam\\anaconda\\lib\\site-packages (from matplotlib->mediapipe) (2.4.7)\n",
      "Requirement already satisfied: kiwisolver>=1.0.1 in c:\\users\\shivam\\anaconda\\lib\\site-packages (from matplotlib->mediapipe) (1.3.1)\n",
      "Installing collected packages: protobuf, opencv-contrib-python, absl-py, mediapipe\n",
      "Successfully installed absl-py-1.0.0 mediapipe-0.8.9 opencv-contrib-python-4.5.4.58 protobuf-3.19.1\n",
      "Note: you may need to restart the kernel to use updated packages.\n"
     ]
    }
   ],
   "source": [
    "pip install mediapipe"
   ]
  },
  {
   "cell_type": "code",
   "execution_count": 1,
   "metadata": {},
   "outputs": [],
   "source": [
    "import cv2\n",
    "import mediapipe as mp\n",
    "import time\n",
    "import os\n",
    "from tqdm.notebook import tqdm_notebook as tqdm"
   ]
  },
  {
   "cell_type": "code",
   "execution_count": 3,
   "metadata": {
    "scrolled": false
   },
   "outputs": [
    {
     "data": {
      "application/vnd.jupyter.widget-view+json": {
       "model_id": "2b7088a909b344219ec9ced68f816597",
       "version_major": 2,
       "version_minor": 0
      },
      "text/plain": [
       "  0%|          | 0/220 [00:00<?, ?it/s]"
      ]
     },
     "metadata": {},
     "output_type": "display_data"
    },
    {
     "data": {
      "text/plain": [
       "-1"
      ]
     },
     "execution_count": 3,
     "metadata": {},
     "output_type": "execute_result"
    }
   ],
   "source": [
    "mpPose = mp.solutions.pose\n",
    "pose = mpPose.Pose()\n",
    "mpDraw = mp.solutions.drawing_utils\n",
    "os.chdir('C:/Users/shivam/Desktop/capstone/DATASET/f/downdog')\n",
    "count=0\n",
    "for i in tqdm(os.listdir()):\n",
    "    blank=cv2.imread(\"C:/Users/shivam/Desktop/capstone/DATASET/p.png\")\n",
    "    cap = cv2.imread(i)     \n",
    "    img=cap\n",
    "    imgRGB = cv2.cvtColor(img, cv2.COLOR_BGR2RGB)\n",
    "    results = pose.process(imgRGB)\n",
    "    if results.pose_landmarks:\n",
    "        mpDraw.draw_landmarks(blank, results.pose_landmarks, mpPose.POSE_CONNECTIONS)\n",
    "    else:\n",
    "        continue\n",
    "    for id, lm in enumerate(results.pose_landmarks.landmark):\n",
    "        h, w,c = img.shape\n",
    "        \n",
    "        cx, cy = int(lm.x*w), int(lm.y*h)\n",
    "        cv2.circle(img, (cx, cy), 5, (255,0,0), cv2.FILLED)\n",
    "    outfile =  \"C:/Users/shivam/Desktop/DATASET/a/pose\" + str(count) + \".jpg\" \n",
    "    cv2.imwrite(outfile, blank)\n",
    "    #cv2.imwrite(\"C:/Users/Harsh/Desktop/JUPYTER/DATASET/f/pose.jpg\".format(count), img)\n",
    "    count=count+1\n",
    "    \n",
    "cv2.waitKey(0)"
   ]
  },
  {
   "cell_type": "code",
   "execution_count": 4,
   "metadata": {},
   "outputs": [
    {
     "name": "stdout",
     "output_type": "stream",
     "text": [
      "{'downdog': 0, 'goddess': 1, 'plank': 2, 'tree': 3, 'warrior2': 4}\n"
     ]
    }
   ],
   "source": [
    "img_size=240\n",
    "data_path = 'C:/Users/shivam/Desktop/capstone/DATASET/TRAIN'\n",
    "categories=os.listdir(data_path)\n",
    "labels = [i for i in range(len(categories))]\n",
    "label_dict = dict(zip(categories, labels))\n",
    "print(label_dict)\n",
    "data=[]\n",
    "for category in categories:\n",
    "    folder_path = os.path.join(data_path, category)\n",
    "    name = category\n",
    "    img_names = os.listdir(folder_path)\n",
    "    count=0\n",
    "    for img_name in img_names:\n",
    "        img_path = os.path.join(folder_path, img_name)\n",
    "        f = cv2.imread(img_path)\n",
    "        img = f\n",
    "        img = cv2.resize(img, (img_size, img_size))\n",
    "        data.append((img,label_dict[name]))\n",
    "        outfile =  \"C:/Users/shivam/Desktop/capstone/DATASET/f/\" +str(category) + \"/\" + str(count) + \".jpg\" \n",
    "        cv2.imwrite(outfile, img)\n",
    "        count+=1"
   ]
  }
 ],
 "metadata": {
  "kernelspec": {
   "display_name": "Python 3",
   "language": "python",
   "name": "python3"
  },
  "language_info": {
   "codemirror_mode": {
    "name": "ipython",
    "version": 3
   },
   "file_extension": ".py",
   "mimetype": "text/x-python",
   "name": "python",
   "nbconvert_exporter": "python",
   "pygments_lexer": "ipython3",
   "version": "3.8.8"
  }
 },
 "nbformat": 4,
 "nbformat_minor": 4
}
